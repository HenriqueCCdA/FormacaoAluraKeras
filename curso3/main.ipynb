{
 "cells": [
  {
   "cell_type": "code",
   "execution_count": 1,
   "id": "e59a5138",
   "metadata": {},
   "outputs": [],
   "source": [
    "import pandas as pd"
   ]
  },
  {
   "cell_type": "code",
   "execution_count": 2,
   "id": "8606ad43",
   "metadata": {},
   "outputs": [
    {
     "name": "stderr",
     "output_type": "stream",
     "text": [
      "2025-08-17 13:45:16.750586: I tensorflow/core/util/port.cc:153] oneDNN custom operations are on. You may see slightly different numerical results due to floating-point round-off errors from different computation orders. To turn them off, set the environment variable `TF_ENABLE_ONEDNN_OPTS=0`.\n",
      "2025-08-17 13:45:17.447124: I tensorflow/core/platform/cpu_feature_guard.cc:210] This TensorFlow binary is optimized to use available CPU instructions in performance-critical operations.\n",
      "To enable the following instructions: AVX2 AVX_VNNI FMA, in other operations, rebuild TensorFlow with the appropriate compiler flags.\n",
      "2025-08-17 13:45:18.764421: I tensorflow/core/util/port.cc:153] oneDNN custom operations are on. You may see slightly different numerical results due to floating-point round-off errors from different computation orders. To turn them off, set the environment variable `TF_ENABLE_ONEDNN_OPTS=0`.\n",
      "WARNING: All log messages before absl::InitializeLog() is called are written to STDERR\n",
      "I0000 00:00:1755449120.581284   74122 gpu_device.cc:2020] Created device /device:GPU:0 with 9307 MB memory:  -> device: 0, name: NVIDIA GeForce RTX 3060, pci bus id: 0000:01:00.0, compute capability: 8.6\n"
     ]
    },
    {
     "data": {
      "text/plain": [
       "'/device:GPU:0'"
      ]
     },
     "execution_count": 2,
     "metadata": {},
     "output_type": "execute_result"
    }
   ],
   "source": [
    "import tensorflow as tf\n",
    "tf.test.gpu_device_name()"
   ]
  },
  {
   "cell_type": "code",
   "execution_count": 3,
   "id": "a84eb0f8",
   "metadata": {},
   "outputs": [],
   "source": [
    "df = pd.read_csv(\"train.zip\", header=None, names=['ClassIndex' ,'Título', 'Descrição'])"
   ]
  },
  {
   "cell_type": "code",
   "execution_count": 4,
   "id": "2ac5f530",
   "metadata": {},
   "outputs": [
    {
     "data": {
      "text/html": [
       "<div>\n",
       "<style scoped>\n",
       "    .dataframe tbody tr th:only-of-type {\n",
       "        vertical-align: middle;\n",
       "    }\n",
       "\n",
       "    .dataframe tbody tr th {\n",
       "        vertical-align: top;\n",
       "    }\n",
       "\n",
       "    .dataframe thead th {\n",
       "        text-align: right;\n",
       "    }\n",
       "</style>\n",
       "<table border=\"1\" class=\"dataframe\">\n",
       "  <thead>\n",
       "    <tr style=\"text-align: right;\">\n",
       "      <th></th>\n",
       "      <th>ClassIndex</th>\n",
       "      <th>Título</th>\n",
       "      <th>Descrição</th>\n",
       "    </tr>\n",
       "  </thead>\n",
       "  <tbody>\n",
       "    <tr>\n",
       "      <th>0</th>\n",
       "      <td>3</td>\n",
       "      <td>Wall St. Bears Claw Back Into the Black (Reuters)</td>\n",
       "      <td>Reuters - Short-sellers, Wall Street's dwindli...</td>\n",
       "    </tr>\n",
       "    <tr>\n",
       "      <th>1</th>\n",
       "      <td>3</td>\n",
       "      <td>Carlyle Looks Toward Commercial Aerospace (Reu...</td>\n",
       "      <td>Reuters - Private investment firm Carlyle Grou...</td>\n",
       "    </tr>\n",
       "    <tr>\n",
       "      <th>2</th>\n",
       "      <td>3</td>\n",
       "      <td>Oil and Economy Cloud Stocks' Outlook (Reuters)</td>\n",
       "      <td>Reuters - Soaring crude prices plus worries\\ab...</td>\n",
       "    </tr>\n",
       "    <tr>\n",
       "      <th>3</th>\n",
       "      <td>3</td>\n",
       "      <td>Iraq Halts Oil Exports from Main Southern Pipe...</td>\n",
       "      <td>Reuters - Authorities have halted oil export\\f...</td>\n",
       "    </tr>\n",
       "    <tr>\n",
       "      <th>4</th>\n",
       "      <td>3</td>\n",
       "      <td>Oil prices soar to all-time record, posing new...</td>\n",
       "      <td>AFP - Tearaway world oil prices, toppling reco...</td>\n",
       "    </tr>\n",
       "    <tr>\n",
       "      <th>...</th>\n",
       "      <td>...</td>\n",
       "      <td>...</td>\n",
       "      <td>...</td>\n",
       "    </tr>\n",
       "    <tr>\n",
       "      <th>119995</th>\n",
       "      <td>1</td>\n",
       "      <td>Pakistan's Musharraf Says Won't Quit as Army C...</td>\n",
       "      <td>KARACHI (Reuters) - Pakistani President Perve...</td>\n",
       "    </tr>\n",
       "    <tr>\n",
       "      <th>119996</th>\n",
       "      <td>2</td>\n",
       "      <td>Renteria signing a top-shelf deal</td>\n",
       "      <td>Red Sox general manager Theo Epstein acknowled...</td>\n",
       "    </tr>\n",
       "    <tr>\n",
       "      <th>119997</th>\n",
       "      <td>2</td>\n",
       "      <td>Saban not going to Dolphins yet</td>\n",
       "      <td>The Miami Dolphins will put their courtship of...</td>\n",
       "    </tr>\n",
       "    <tr>\n",
       "      <th>119998</th>\n",
       "      <td>2</td>\n",
       "      <td>Today's NFL games</td>\n",
       "      <td>PITTSBURGH at NY GIANTS Time: 1:30 p.m. Line: ...</td>\n",
       "    </tr>\n",
       "    <tr>\n",
       "      <th>119999</th>\n",
       "      <td>2</td>\n",
       "      <td>Nets get Carter from Raptors</td>\n",
       "      <td>INDIANAPOLIS -- All-Star Vince Carter was trad...</td>\n",
       "    </tr>\n",
       "  </tbody>\n",
       "</table>\n",
       "<p>120000 rows × 3 columns</p>\n",
       "</div>"
      ],
      "text/plain": [
       "        ClassIndex                                             Título  \\\n",
       "0                3  Wall St. Bears Claw Back Into the Black (Reuters)   \n",
       "1                3  Carlyle Looks Toward Commercial Aerospace (Reu...   \n",
       "2                3    Oil and Economy Cloud Stocks' Outlook (Reuters)   \n",
       "3                3  Iraq Halts Oil Exports from Main Southern Pipe...   \n",
       "4                3  Oil prices soar to all-time record, posing new...   \n",
       "...            ...                                                ...   \n",
       "119995           1  Pakistan's Musharraf Says Won't Quit as Army C...   \n",
       "119996           2                  Renteria signing a top-shelf deal   \n",
       "119997           2                    Saban not going to Dolphins yet   \n",
       "119998           2                                  Today's NFL games   \n",
       "119999           2                       Nets get Carter from Raptors   \n",
       "\n",
       "                                                Descrição  \n",
       "0       Reuters - Short-sellers, Wall Street's dwindli...  \n",
       "1       Reuters - Private investment firm Carlyle Grou...  \n",
       "2       Reuters - Soaring crude prices plus worries\\ab...  \n",
       "3       Reuters - Authorities have halted oil export\\f...  \n",
       "4       AFP - Tearaway world oil prices, toppling reco...  \n",
       "...                                                   ...  \n",
       "119995   KARACHI (Reuters) - Pakistani President Perve...  \n",
       "119996  Red Sox general manager Theo Epstein acknowled...  \n",
       "119997  The Miami Dolphins will put their courtship of...  \n",
       "119998  PITTSBURGH at NY GIANTS Time: 1:30 p.m. Line: ...  \n",
       "119999  INDIANAPOLIS -- All-Star Vince Carter was trad...  \n",
       "\n",
       "[120000 rows x 3 columns]"
      ]
     },
     "execution_count": 4,
     "metadata": {},
     "output_type": "execute_result"
    }
   ],
   "source": [
    "df"
   ]
  },
  {
   "cell_type": "code",
   "execution_count": 5,
   "id": "b4cb709c",
   "metadata": {},
   "outputs": [],
   "source": [
    "df['Texto'] = df['Título'] + ' ' + df['Descrição']"
   ]
  },
  {
   "cell_type": "code",
   "execution_count": 6,
   "id": "c0e5b42a",
   "metadata": {},
   "outputs": [
    {
     "data": {
      "text/plain": [
       "0         Wall St. Bears Claw Back Into the Black (Reute...\n",
       "1         Carlyle Looks Toward Commercial Aerospace (Reu...\n",
       "2         Oil and Economy Cloud Stocks' Outlook (Reuters...\n",
       "3         Iraq Halts Oil Exports from Main Southern Pipe...\n",
       "4         Oil prices soar to all-time record, posing new...\n",
       "                                ...                        \n",
       "119995    Pakistan's Musharraf Says Won't Quit as Army C...\n",
       "119996    Renteria signing a top-shelf deal Red Sox gene...\n",
       "119997    Saban not going to Dolphins yet The Miami Dolp...\n",
       "119998    Today's NFL games PITTSBURGH at NY GIANTS Time...\n",
       "119999    Nets get Carter from Raptors INDIANAPOLIS -- A...\n",
       "Name: Texto, Length: 120000, dtype: object"
      ]
     },
     "execution_count": 6,
     "metadata": {},
     "output_type": "execute_result"
    }
   ],
   "source": [
    "df['Texto']"
   ]
  },
  {
   "cell_type": "code",
   "execution_count": 7,
   "id": "837e353a",
   "metadata": {},
   "outputs": [],
   "source": [
    "df['ClassIndex'] = df['ClassIndex'] - 1"
   ]
  },
  {
   "cell_type": "code",
   "execution_count": 8,
   "id": "10eda28d",
   "metadata": {},
   "outputs": [],
   "source": [
    "from sklearn.model_selection import train_test_split"
   ]
  },
  {
   "cell_type": "code",
   "execution_count": 9,
   "id": "c677b423",
   "metadata": {},
   "outputs": [],
   "source": [
    "X_treino, X_teste, y_treino, y_teste = train_test_split(\n",
    "    df['Texto'].values,\n",
    "    df['ClassIndex'].values,\n",
    "    test_size=0.2,\n",
    "    random_state=4256,\n",
    ")"
   ]
  },
  {
   "cell_type": "code",
   "execution_count": 10,
   "id": "28fe16d9",
   "metadata": {},
   "outputs": [],
   "source": [
    "import tensorflow as tf"
   ]
  },
  {
   "cell_type": "code",
   "execution_count": 11,
   "id": "63d4588b",
   "metadata": {},
   "outputs": [],
   "source": [
    "VOCAB_SIZE = 1_000"
   ]
  },
  {
   "cell_type": "code",
   "execution_count": 12,
   "id": "9d26e6cc",
   "metadata": {},
   "outputs": [
    {
     "name": "stderr",
     "output_type": "stream",
     "text": [
      "I0000 00:00:1755449121.116946   74122 gpu_device.cc:2020] Created device /job:localhost/replica:0/task:0/device:GPU:0 with 9307 MB memory:  -> device: 0, name: NVIDIA GeForce RTX 3060, pci bus id: 0000:01:00.0, compute capability: 8.6\n"
     ]
    }
   ],
   "source": [
    "encoder = tf.keras.layers.TextVectorization(max_tokens=VOCAB_SIZE)"
   ]
  },
  {
   "cell_type": "code",
   "execution_count": 13,
   "id": "420dfb3c",
   "metadata": {},
   "outputs": [],
   "source": [
    "encoder.adapt(X_treino)"
   ]
  },
  {
   "cell_type": "code",
   "execution_count": 14,
   "id": "a81f1df0",
   "metadata": {},
   "outputs": [
    {
     "data": {
      "text/plain": [
       "['',\n",
       " np.str_('39s'),\n",
       " np.str_('it'),\n",
       " np.str_('was'),\n",
       " np.str_('two'),\n",
       " np.str_('company'),\n",
       " np.str_('than'),\n",
       " np.str_('million'),\n",
       " np.str_('corp'),\n",
       " np.str_('which'),\n",
       " np.str_('next'),\n",
       " np.str_('sales'),\n",
       " np.str_('announced'),\n",
       " np.str_('killed'),\n",
       " np.str_('if'),\n",
       " np.str_('set'),\n",
       " np.str_('10'),\n",
       " np.str_('british'),\n",
       " np.str_('prime'),\n",
       " np.str_('least'),\n",
       " np.str_('games'),\n",
       " np.str_('month'),\n",
       " np.str_('largest'),\n",
       " np.str_('five'),\n",
       " np.str_('sports'),\n",
       " np.str_('higher'),\n",
       " np.str_('being'),\n",
       " np.str_('players'),\n",
       " np.str_('australia'),\n",
       " np.str_('like'),\n",
       " np.str_('general'),\n",
       " np.str_('ago'),\n",
       " np.str_('rise'),\n",
       " np.str_('ahead'),\n",
       " np.str_('release'),\n",
       " np.str_('work'),\n",
       " np.str_('strong'),\n",
       " np.str_('nearly'),\n",
       " np.str_('attacks'),\n",
       " np.str_('support'),\n",
       " np.str_('sun'),\n",
       " np.str_('long'),\n",
       " np.str_('crude'),\n",
       " np.str_('life'),\n",
       " np.str_('version'),\n",
       " np.str_('future'),\n",
       " np.str_('yankees'),\n",
       " np.str_('best'),\n",
       " np.str_('results'),\n",
       " np.str_('defense'),\n",
       " np.str_('southern'),\n",
       " np.str_('elections'),\n",
       " np.str_('such'),\n",
       " np.str_('hopes'),\n",
       " np.str_('claims'),\n",
       " np.str_('scored'),\n",
       " np.str_('interest'),\n",
       " np.str_('canada'),\n",
       " np.str_('times'),\n",
       " np.str_('winning'),\n",
       " np.str_('club'),\n",
       " np.str_('5'),\n",
       " np.str_('aid'),\n",
       " np.str_('operating'),\n",
       " np.str_('almost'),\n",
       " np.str_('13'),\n",
       " np.str_('low'),\n",
       " np.str_('exchange'),\n",
       " np.str_('less'),\n",
       " np.str_('fuel'),\n",
       " np.str_('7'),\n",
       " np.str_('division'),\n",
       " np.str_('television'),\n",
       " np.str_('threat'),\n",
       " np.str_('investment'),\n",
       " np.str_('african'),\n",
       " np.str_('need'),\n",
       " np.str_('arsenal'),\n",
       " np.str_('ever'),\n",
       " np.str_('starting'),\n",
       " np.str_('until'),\n",
       " np.str_('flight'),\n",
       " np.str_('ban'),\n",
       " np.str_('then'),\n",
       " np.str_('executives'),\n",
       " np.str_('researchers'),\n",
       " np.str_('suicide'),\n",
       " np.str_('injury'),\n",
       " np.str_('kill'),\n",
       " np.str_('drive'),\n",
       " np.str_('leave'),\n",
       " np.str_('above'),\n",
       " np.str_('hard'),\n",
       " np.str_('winter'),\n",
       " np.str_('atlanta'),\n",
       " np.str_('every'),\n",
       " np.str_('mission'),\n",
       " np.str_('johnson'),\n",
       " np.str_('hundreds'),\n",
       " np.str_('build')]"
      ]
     },
     "execution_count": 14,
     "metadata": {},
     "output_type": "execute_result"
    }
   ],
   "source": [
    "encoder.get_vocabulary()[::10]"
   ]
  },
  {
   "cell_type": "code",
   "execution_count": 15,
   "id": "3fc2d6f5",
   "metadata": {},
   "outputs": [],
   "source": [
    "Exemplo = \"Today's NFL games PITTSBURGH at NY GIANTS\""
   ]
  },
  {
   "cell_type": "code",
   "execution_count": 16,
   "id": "0030de67",
   "metadata": {},
   "outputs": [
    {
     "data": {
      "text/plain": [
       "<tf.Tensor: shape=(7,), dtype=int64, numpy=array([  1, 719, 200,   1,  14,   1, 506])>"
      ]
     },
     "execution_count": 16,
     "metadata": {},
     "output_type": "execute_result"
    }
   ],
   "source": [
    "encoder(Exemplo)"
   ]
  },
  {
   "cell_type": "code",
   "execution_count": 17,
   "id": "ef18af05",
   "metadata": {},
   "outputs": [],
   "source": [
    "modelo = tf.keras.Sequential([\n",
    "    encoder,\n",
    "    tf.keras.layers.Embedding(\n",
    "        input_dim=len(encoder.get_vocabulary()),\n",
    "        output_dim=16,\n",
    "        mask_zero=True,\n",
    "    ),\n",
    "    tf.keras.layers.GlobalAveragePooling1D(),\n",
    "    tf.keras.layers.Dense(16, activation='relu'),\n",
    "    tf.keras.layers.Dense(4, activation='softmax'),\n",
    "])"
   ]
  },
  {
   "cell_type": "code",
   "execution_count": 18,
   "id": "7717fcec",
   "metadata": {},
   "outputs": [],
   "source": [
    "modelo.compile(\n",
    "    optimizer=tf.keras.optimizers.Adam(1e-4),\n",
    "    loss='sparse_categorical_crossentropy',\n",
    "    metrics=['accuracy'],\n",
    ")"
   ]
  },
  {
   "cell_type": "code",
   "execution_count": 19,
   "id": "f2455cea",
   "metadata": {},
   "outputs": [
    {
     "data": {
      "text/plain": [
       "\"Palestinians Pour Out Grief Over Arafat's Death  RAMALLAH, West Bank (Reuters) - Palestinians streamed into  the streets of the West Bank and Gaza Strip on Thursday in an  outpouring of grief over the death of Yasser Arafat, the  enduring symbol of their nationalist cause.\""
      ]
     },
     "execution_count": 19,
     "metadata": {},
     "output_type": "execute_result"
    }
   ],
   "source": [
    "X_teste[1]"
   ]
  },
  {
   "cell_type": "code",
   "execution_count": 20,
   "id": "1a7d858a",
   "metadata": {},
   "outputs": [
    {
     "name": "stdout",
     "output_type": "stream",
     "text": [
      "\u001b[1m1/1\u001b[0m \u001b[32m━━━━━━━━━━━━━━━━━━━━\u001b[0m\u001b[37m\u001b[0m \u001b[1m0s\u001b[0m 349ms/step\n"
     ]
    },
    {
     "data": {
      "text/plain": [
       "array([[0.254349  , 0.24967143, 0.24985084, 0.24612878]], dtype=float32)"
      ]
     },
     "execution_count": 20,
     "metadata": {},
     "output_type": "execute_result"
    }
   ],
   "source": [
    "modelo.predict(X_teste[:1])"
   ]
  },
  {
   "cell_type": "code",
   "execution_count": 21,
   "id": "edcc9a8f",
   "metadata": {},
   "outputs": [
    {
     "name": "stdout",
     "output_type": "stream",
     "text": [
      "\u001b[1m1/1\u001b[0m \u001b[32m━━━━━━━━━━━━━━━━━━━━\u001b[0m\u001b[37m\u001b[0m \u001b[1m0s\u001b[0m 26ms/step\n"
     ]
    },
    {
     "data": {
      "text/plain": [
       "array([0])"
      ]
     },
     "execution_count": 21,
     "metadata": {},
     "output_type": "execute_result"
    }
   ],
   "source": [
    "modelo.predict(X_teste[:1]).argmax(axis=1)"
   ]
  },
  {
   "cell_type": "code",
   "execution_count": 22,
   "id": "d86802de",
   "metadata": {},
   "outputs": [
    {
     "data": {
      "text/plain": [
       "np.int64(0)"
      ]
     },
     "execution_count": 22,
     "metadata": {},
     "output_type": "execute_result"
    }
   ],
   "source": [
    "y_teste[1]"
   ]
  },
  {
   "cell_type": "code",
   "execution_count": 23,
   "id": "2a73284f",
   "metadata": {},
   "outputs": [],
   "source": [
    "epocas = 10"
   ]
  },
  {
   "cell_type": "code",
   "execution_count": 24,
   "id": "4a58de28",
   "metadata": {},
   "outputs": [
    {
     "name": "stdout",
     "output_type": "stream",
     "text": [
      "Epoch 1/10\n",
      "\u001b[1m3000/3000\u001b[0m \u001b[32m━━━━━━━━━━━━━━━━━━━━\u001b[0m\u001b[37m\u001b[0m \u001b[1m11s\u001b[0m 3ms/step - accuracy: 0.5314 - loss: 1.2157 - val_accuracy: 0.7224 - val_loss: 0.9667\n",
      "Epoch 2/10\n",
      "\u001b[1m3000/3000\u001b[0m \u001b[32m━━━━━━━━━━━━━━━━━━━━\u001b[0m\u001b[37m\u001b[0m \u001b[1m9s\u001b[0m 3ms/step - accuracy: 0.7781 - loss: 0.8047 - val_accuracy: 0.8034 - val_loss: 0.6643\n",
      "Epoch 3/10\n",
      "\u001b[1m3000/3000\u001b[0m \u001b[32m━━━━━━━━━━━━━━━━━━━━\u001b[0m\u001b[37m\u001b[0m \u001b[1m10s\u001b[0m 3ms/step - accuracy: 0.8157 - loss: 0.5903 - val_accuracy: 0.8251 - val_loss: 0.5319\n",
      "Epoch 4/10\n",
      "\u001b[1m3000/3000\u001b[0m \u001b[32m━━━━━━━━━━━━━━━━━━━━\u001b[0m\u001b[37m\u001b[0m \u001b[1m9s\u001b[0m 3ms/step - accuracy: 0.8329 - loss: 0.5042 - val_accuracy: 0.8355 - val_loss: 0.4812\n",
      "Epoch 5/10\n",
      "\u001b[1m3000/3000\u001b[0m \u001b[32m━━━━━━━━━━━━━━━━━━━━\u001b[0m\u001b[37m\u001b[0m \u001b[1m10s\u001b[0m 3ms/step - accuracy: 0.8428 - loss: 0.4671 - val_accuracy: 0.8425 - val_loss: 0.4566\n",
      "Epoch 6/10\n",
      "\u001b[1m3000/3000\u001b[0m \u001b[32m━━━━━━━━━━━━━━━━━━━━\u001b[0m\u001b[37m\u001b[0m \u001b[1m9s\u001b[0m 3ms/step - accuracy: 0.8490 - loss: 0.4461 - val_accuracy: 0.8491 - val_loss: 0.4406\n",
      "Epoch 7/10\n",
      "\u001b[1m3000/3000\u001b[0m \u001b[32m━━━━━━━━━━━━━━━━━━━━\u001b[0m\u001b[37m\u001b[0m \u001b[1m10s\u001b[0m 3ms/step - accuracy: 0.8532 - loss: 0.4314 - val_accuracy: 0.8522 - val_loss: 0.4297\n",
      "Epoch 8/10\n",
      "\u001b[1m3000/3000\u001b[0m \u001b[32m━━━━━━━━━━━━━━━━━━━━\u001b[0m\u001b[37m\u001b[0m \u001b[1m10s\u001b[0m 3ms/step - accuracy: 0.8571 - loss: 0.4203 - val_accuracy: 0.8563 - val_loss: 0.4200\n",
      "Epoch 9/10\n",
      "\u001b[1m3000/3000\u001b[0m \u001b[32m━━━━━━━━━━━━━━━━━━━━\u001b[0m\u001b[37m\u001b[0m \u001b[1m9s\u001b[0m 3ms/step - accuracy: 0.8591 - loss: 0.4111 - val_accuracy: 0.8580 - val_loss: 0.4124\n",
      "Epoch 10/10\n",
      "\u001b[1m3000/3000\u001b[0m \u001b[32m━━━━━━━━━━━━━━━━━━━━\u001b[0m\u001b[37m\u001b[0m \u001b[1m9s\u001b[0m 3ms/step - accuracy: 0.8619 - loss: 0.4034 - val_accuracy: 0.8610 - val_loss: 0.4068\n"
     ]
    }
   ],
   "source": [
    "history = modelo.fit(X_treino, y_treino, epochs=epocas, validation_data=(X_teste, y_teste))"
   ]
  },
  {
   "cell_type": "code",
   "execution_count": 25,
   "id": "b9b3b968",
   "metadata": {},
   "outputs": [],
   "source": [
    "import matplotlib.pylab as plt\n"
   ]
  },
  {
   "cell_type": "code",
   "execution_count": 26,
   "id": "c804e916",
   "metadata": {},
   "outputs": [],
   "source": [
    "def plota_resultados(history, epocas):\n",
    "    acc = history.history['accuracy']\n",
    "    val_acc = history.history['val_accuracy']\n",
    "\n",
    "    loss = history.history['loss']\n",
    "    val_loss = history.history['val_loss']\n",
    "\n",
    "    intervalo_epocas = range(epocas)\n",
    "    plt.figure(figsize=(12, 6))\n",
    "    plt.subplot(1, 2, 1)\n",
    "    plt.plot(intervalo_epocas, acc, label='Acurácia do Treino')\n",
    "    plt.plot(intervalo_epocas, val_acc, label='Acurácia da Validação')\n",
    "    plt.legend(loc='lower right')\n",
    "\n",
    "\n",
    "    plt.subplot(1, 2, 2)\n",
    "    plt.plot(intervalo_epocas, loss, label='Custo do Treino')\n",
    "    plt.plot(intervalo_epocas, val_loss, label='Custo da Validação')\n",
    "    plt.legend(loc='upper right')\n",
    "    plt.show()\n"
   ]
  },
  {
   "cell_type": "code",
   "execution_count": 27,
   "id": "4b26646b",
   "metadata": {},
   "outputs": [
    {
     "data": {
      "image/png": "[encoded data removed]",
      "text/plain": [
       "<Figure size 1200x600 with 2 Axes>"
      ]
     },
     "metadata": {},
     "output_type": "display_data"
    }
   ],
   "source": [
    "plota_resultados(history,epocas)"
   ]
  },
  {
   "cell_type": "code",
   "execution_count": 28,
   "id": "077f150c",
   "metadata": {},
   "outputs": [],
   "source": [
    "modelo = tf.keras.Sequential(\n",
    "    [\n",
    "        encoder,\n",
    "        tf.keras.layers.Embedding(\n",
    "            input_dim=len(encoder.get_vocabulary()),\n",
    "            output_dim=16,\n",
    "            mask_zero=False,\n",
    "        ),\n",
    "        tf.keras.layers.Conv1D(64, kernel_size=3, activation='relu'),\n",
    "        tf.keras.layers.MaxPooling1D(),\n",
    "        tf.keras.layers.Conv1D(128, kernel_size=4, activation='relu'),\n",
    "        tf.keras.layers.GlobalAveragePooling1D(),\n",
    "        tf.keras.layers.Dropout(0.5),\n",
    "        tf.keras.layers.Dense(16, activation='relu'),\n",
    "        tf.keras.layers.Dense(4, activation='softmax'),\n",
    "    ]\n",
    ")"
   ]
  },
  {
   "cell_type": "code",
   "execution_count": 29,
   "id": "68545465",
   "metadata": {},
   "outputs": [],
   "source": [
    "modelo.compile(\n",
    "    optimizer=tf.keras.optimizers.Adam(1e-4),\n",
    "    loss='sparse_categorical_crossentropy',\n",
    "    metrics=['accuracy'],\n",
    ")"
   ]
  },
  {
   "cell_type": "code",
   "execution_count": 30,
   "id": "bcdf3b68",
   "metadata": {},
   "outputs": [
    {
     "name": "stdout",
     "output_type": "stream",
     "text": [
      "Epoch 1/10\n"
     ]
    },
    {
     "name": "stderr",
     "output_type": "stream",
     "text": [
      "2025-08-17 13:46:59.822981: I external/local_xla/xla/stream_executor/cuda/cuda_dnn.cc:473] Loaded cuDNN version 91100\n"
     ]
    },
    {
     "name": "stdout",
     "output_type": "stream",
     "text": [
      "\u001b[1m3000/3000\u001b[0m \u001b[32m━━━━━━━━━━━━━━━━━━━━\u001b[0m\u001b[37m\u001b[0m \u001b[1m31s\u001b[0m 10ms/step - accuracy: 0.6495 - loss: 0.8541 - val_accuracy: 0.8217 - val_loss: 0.5106\n",
      "Epoch 2/10\n",
      "\u001b[1m3000/3000\u001b[0m \u001b[32m━━━━━━━━━━━━━━━━━━━━\u001b[0m\u001b[37m\u001b[0m \u001b[1m16s\u001b[0m 5ms/step - accuracy: 0.8258 - loss: 0.5067 - val_accuracy: 0.8423 - val_loss: 0.4626\n",
      "Epoch 3/10\n",
      "\u001b[1m3000/3000\u001b[0m \u001b[32m━━━━━━━━━━━━━━━━━━━━\u001b[0m\u001b[37m\u001b[0m \u001b[1m15s\u001b[0m 5ms/step - accuracy: 0.8411 - loss: 0.4713 - val_accuracy: 0.8506 - val_loss: 0.4448\n",
      "Epoch 4/10\n",
      "\u001b[1m3000/3000\u001b[0m \u001b[32m━━━━━━━━━━━━━━━━━━━━\u001b[0m\u001b[37m\u001b[0m \u001b[1m16s\u001b[0m 5ms/step - accuracy: 0.8470 - loss: 0.4527 - val_accuracy: 0.8524 - val_loss: 0.4336\n",
      "Epoch 5/10\n",
      "\u001b[1m3000/3000\u001b[0m \u001b[32m━━━━━━━━━━━━━━━━━━━━\u001b[0m\u001b[37m\u001b[0m \u001b[1m15s\u001b[0m 5ms/step - accuracy: 0.8532 - loss: 0.4361 - val_accuracy: 0.8597 - val_loss: 0.4181\n",
      "Epoch 6/10\n",
      "\u001b[1m3000/3000\u001b[0m \u001b[32m━━━━━━━━━━━━━━━━━━━━\u001b[0m\u001b[37m\u001b[0m \u001b[1m15s\u001b[0m 5ms/step - accuracy: 0.8558 - loss: 0.4238 - val_accuracy: 0.8614 - val_loss: 0.4069\n",
      "Epoch 7/10\n",
      "\u001b[1m3000/3000\u001b[0m \u001b[32m━━━━━━━━━━━━━━━━━━━━\u001b[0m\u001b[37m\u001b[0m \u001b[1m15s\u001b[0m 5ms/step - accuracy: 0.8574 - loss: 0.4149 - val_accuracy: 0.8625 - val_loss: 0.3992\n",
      "Epoch 8/10\n",
      "\u001b[1m3000/3000\u001b[0m \u001b[32m━━━━━━━━━━━━━━━━━━━━\u001b[0m\u001b[37m\u001b[0m \u001b[1m15s\u001b[0m 5ms/step - accuracy: 0.8600 - loss: 0.4064 - val_accuracy: 0.8627 - val_loss: 0.3940\n",
      "Epoch 9/10\n",
      "\u001b[1m3000/3000\u001b[0m \u001b[32m━━━━━━━━━━━━━━━━━━━━\u001b[0m\u001b[37m\u001b[0m \u001b[1m18s\u001b[0m 6ms/step - accuracy: 0.8617 - loss: 0.4011 - val_accuracy: 0.8636 - val_loss: 0.3928\n",
      "Epoch 10/10\n",
      "\u001b[1m3000/3000\u001b[0m \u001b[32m━━━━━━━━━━━━━━━━━━━━\u001b[0m\u001b[37m\u001b[0m \u001b[1m15s\u001b[0m 5ms/step - accuracy: 0.8623 - loss: 0.3958 - val_accuracy: 0.8656 - val_loss: 0.3869\n"
     ]
    }
   ],
   "source": [
    "history = modelo.fit(X_treino, y_treino, epochs=epocas, validation_data=(X_teste, y_teste))"
   ]
  },
  {
   "cell_type": "code",
   "execution_count": 31,
   "id": "c1ac89bd",
   "metadata": {},
   "outputs": [
    {
     "data": {
      "image/png": "[encoded data removed]",
      "text/plain": [
       "<Figure size 1200x600 with 2 Axes>"
      ]
     },
     "metadata": {},
     "output_type": "display_data"
    }
   ],
   "source": [
    "plota_resultados(history,epocas)"
   ]
  },
  {
   "cell_type": "code",
   "execution_count": 33,
   "id": "a4081ab9",
   "metadata": {},
   "outputs": [],
   "source": [
    "modelo = tf.keras.Sequential([\n",
    "    encoder,\n",
    "    tf.keras.layers.Embedding(\n",
    "        input_dim=len(encoder.get_vocabulary()),\n",
    "        output_dim=64,\n",
    "        mask_zero=False,\n",
    "    ),\n",
    "    tf.keras.layers.Bidirectional(tf.keras.layers.LSTM(64, return_sequences=True)),\n",
    "    tf.keras.layers.Bidirectional(tf.keras.layers.LSTM(32)),\n",
    "    tf.keras.layers.Dense(64, activation='relu'),\n",
    "    tf.keras.layers.Dropout(0.5),\n",
    "    tf.keras.layers.Dense(4, activation='softmax'),\n",
    "])"
   ]
  },
  {
   "cell_type": "code",
   "execution_count": 36,
   "id": "5aa2d724",
   "metadata": {},
   "outputs": [],
   "source": [
    "modelo.compile(\n",
    "    optimizer=tf.keras.optimizers.Adam(1e-4),\n",
    "    loss='sparse_categorical_crossentropy',\n",
    "    metrics=['accuracy'],\n",
    ")"
   ]
  },
  {
   "cell_type": "code",
   "execution_count": 37,
   "id": "556d154f",
   "metadata": {},
   "outputs": [
    {
     "name": "stdout",
     "output_type": "stream",
     "text": [
      "Epoch 1/10\n",
      "\u001b[1m3000/3000\u001b[0m \u001b[32m━━━━━━━━━━━━━━━━━━━━\u001b[0m\u001b[37m\u001b[0m \u001b[1m46s\u001b[0m 15ms/step - accuracy: 0.7392 - loss: 0.6813 - val_accuracy: 0.8534 - val_loss: 0.4207\n",
      "Epoch 2/10\n",
      "\u001b[1m3000/3000\u001b[0m \u001b[32m━━━━━━━━━━━━━━━━━━━━\u001b[0m\u001b[37m\u001b[0m \u001b[1m41s\u001b[0m 14ms/step - accuracy: 0.8532 - loss: 0.4432 - val_accuracy: 0.8594 - val_loss: 0.4000\n",
      "Epoch 3/10\n",
      "\u001b[1m3000/3000\u001b[0m \u001b[32m━━━━━━━━━━━━━━━━━━━━\u001b[0m\u001b[37m\u001b[0m \u001b[1m40s\u001b[0m 13ms/step - accuracy: 0.8614 - loss: 0.4177 - val_accuracy: 0.8655 - val_loss: 0.3856\n",
      "Epoch 4/10\n",
      "\u001b[1m3000/3000\u001b[0m \u001b[32m━━━━━━━━━━━━━━━━━━━━\u001b[0m\u001b[37m\u001b[0m \u001b[1m38s\u001b[0m 13ms/step - accuracy: 0.8659 - loss: 0.4018 - val_accuracy: 0.8689 - val_loss: 0.3727\n",
      "Epoch 5/10\n",
      "\u001b[1m3000/3000\u001b[0m \u001b[32m━━━━━━━━━━━━━━━━━━━━\u001b[0m\u001b[37m\u001b[0m \u001b[1m41s\u001b[0m 14ms/step - accuracy: 0.8683 - loss: 0.3946 - val_accuracy: 0.8622 - val_loss: 0.3795\n",
      "Epoch 6/10\n",
      "\u001b[1m3000/3000\u001b[0m \u001b[32m━━━━━━━━━━━━━━━━━━━━\u001b[0m\u001b[37m\u001b[0m \u001b[1m41s\u001b[0m 14ms/step - accuracy: 0.8704 - loss: 0.3857 - val_accuracy: 0.8684 - val_loss: 0.3680\n",
      "Epoch 7/10\n",
      "\u001b[1m3000/3000\u001b[0m \u001b[32m━━━━━━━━━━━━━━━━━━━━\u001b[0m\u001b[37m\u001b[0m \u001b[1m43s\u001b[0m 14ms/step - accuracy: 0.8714 - loss: 0.3785 - val_accuracy: 0.8707 - val_loss: 0.3630\n",
      "Epoch 8/10\n",
      "\u001b[1m3000/3000\u001b[0m \u001b[32m━━━━━━━━━━━━━━━━━━━━\u001b[0m\u001b[37m\u001b[0m \u001b[1m43s\u001b[0m 14ms/step - accuracy: 0.8731 - loss: 0.3732 - val_accuracy: 0.8692 - val_loss: 0.3661\n",
      "Epoch 9/10\n",
      "\u001b[1m3000/3000\u001b[0m \u001b[32m━━━━━━━━━━━━━━━━━━━━\u001b[0m\u001b[37m\u001b[0m \u001b[1m41s\u001b[0m 14ms/step - accuracy: 0.8748 - loss: 0.3674 - val_accuracy: 0.8684 - val_loss: 0.3698\n",
      "Epoch 10/10\n",
      "\u001b[1m3000/3000\u001b[0m \u001b[32m━━━━━━━━━━━━━━━━━━━━\u001b[0m\u001b[37m\u001b[0m \u001b[1m42s\u001b[0m 14ms/step - accuracy: 0.8751 - loss: 0.3610 - val_accuracy: 0.8677 - val_loss: 0.3655\n"
     ]
    }
   ],
   "source": [
    "history = modelo.fit(\n",
    "    X_treino,\n",
    "    y_treino,\n",
    "    epochs=epocas,\n",
    "    validation_data=(X_teste, y_teste),\n",
    ")"
   ]
  },
  {
   "cell_type": "code",
   "execution_count": 38,
   "id": "db0c3557",
   "metadata": {},
   "outputs": [
    {
     "data": {
      "image/png": "[encoded data removed]",
      "text/plain": [
       "<Figure size 1200x600 with 2 Axes>"
      ]
     },
     "metadata": {},
     "output_type": "display_data"
    }
   ],
   "source": [
    "plota_resultados(history, epocas)"
   ]
  },
  {
   "cell_type": "code",
   "execution_count": 81,
   "id": "09ab93cc",
   "metadata": {},
   "outputs": [],
   "source": [
    "import keras_tuner as kt"
   ]
  },
  {
   "cell_type": "code",
   "execution_count": 82,
   "id": "0898df03",
   "metadata": {},
   "outputs": [],
   "source": [
    "def build_model(hp):\n",
    "    model = tf.keras.Sequential([\n",
    "        encoder,\n",
    "        tf.keras.layers.Embedding(\n",
    "            input_dim=len(encoder.get_vocabulary()),\n",
    "            output_dim=hp.Int('embedding_dim', min_value=32, max_value=128, step=32),\n",
    "            mask_zero=True\n",
    "        ),\n",
    "        tf.keras.layers.Bidirectional(tf.keras.layers.LSTM(\n",
    "            units=hp.Int('lstm_units', min_value=32, max_value=128, step=32),\n",
    "            return_sequences=True\n",
    "        )),\n",
    "        tf.keras.layers.Bidirectional(tf.keras.layers.LSTM(\n",
    "            units=hp.Int('lstm_units', min_value=16, max_value=64, step=16)\n",
    "        )),\n",
    "        tf.keras.layers.Dense(\n",
    "            units=hp.Int('dense_units', min_value=32, max_value=128, step=32),\n",
    "            activation='relu'\n",
    "        ),\n",
    "        tf.keras.layers.Dropout(rate=hp.Float('dropout', min_value=0.2, max_value=0.5, step=0.1)),\n",
    "        tf.keras.layers.Dense(4, activation='softmax')\n",
    "    ])\n",
    "    model.compile(optimizer='adam', loss='sparse_categorical_crossentropy', metrics=['accuracy'])\n",
    "    return model"
   ]
  },
  {
   "cell_type": "code",
   "execution_count": 87,
   "id": "75eafa03",
   "metadata": {},
   "outputs": [],
   "source": [
    "tuner = kt.Hyperband(\n",
    "    build_model,\n",
    "    objective='val_accuracy',\n",
    "    max_epochs=5,\n",
    "    factor=3,\n",
    "    directory='my_dir',\n",
    "    project_name='classification_optimization',\n",
    ")"
   ]
  },
  {
   "cell_type": "code",
   "execution_count": 88,
   "id": "6c496814",
   "metadata": {},
   "outputs": [],
   "source": [
    "from sklearn.model_selection import KFold"
   ]
  },
  {
   "cell_type": "code",
   "execution_count": 89,
   "id": "711929d2",
   "metadata": {},
   "outputs": [],
   "source": [
    "def run_tuner(X, y, n_splits=5):\n",
    "    kf = KFold(n_splits=n_splits, shuffle=True, random_state=42)\n",
    "\n",
    "    for train_index, val_index in kf.split(X):\n",
    "        X_train_fold, X_val_fold = X[train_index], X[val_index]\n",
    "        y_train_fold, y_val_fold = y[train_index], y[val_index]\n",
    "\n",
    "        tuner.search(X_train_fold, y_train_fold, epochs=2, validation_data=(X_val_fold, y_val_fold))\n",
    "\n",
    "    best_hps = tuner.get_best_hyperparameters(num_trials=1)[0]\n",
    "\n",
    "    print(f\"\"\"\n",
    "        A pesquisas da hiperparâmetros foi conlcuída. O númera ideal de dimensões de incorparação é {best_hps.get('Embedding_dim')}\n",
    "        o número ideal de unidades LSTM é {best_hps.get('lstm_units')}, e\n",
    "        o número ideal de unidades densas é {best_hps.get('dense_units')},\n",
    "        e a taxa de adandono ideal é {best_hps.get('dropout')}\n",
    "    \"\"\")\n",
    "\n",
    "    return best_hps"
   ]
  },
  {
   "cell_type": "code",
   "execution_count": 91,
   "id": "0fab7601",
   "metadata": {},
   "outputs": [
    {
     "ename": "KeyError",
     "evalue": "'Embedding_dim does not exist.'",
     "output_type": "error",
     "traceback": [
      "\u001b[31m---------------------------------------------------------------------------\u001b[39m",
      "\u001b[31mKeyError\u001b[39m                                  Traceback (most recent call last)",
      "\u001b[36mCell\u001b[39m\u001b[36m \u001b[39m\u001b[32mIn[91]\u001b[39m\u001b[32m, line 1\u001b[39m\n\u001b[32m----> \u001b[39m\u001b[32m1\u001b[39m best_hps = \u001b[43mrun_tuner\u001b[49m\u001b[43m(\u001b[49m\u001b[43mX_treino\u001b[49m\u001b[43m,\u001b[49m\u001b[43m \u001b[49m\u001b[43my_treino\u001b[49m\u001b[43m)\u001b[49m\n",
      "\u001b[36mCell\u001b[39m\u001b[36m \u001b[39m\u001b[32mIn[89]\u001b[39m\u001b[32m, line 13\u001b[39m, in \u001b[36mrun_tuner\u001b[39m\u001b[34m(X, y, n_splits)\u001b[39m\n\u001b[32m      8\u001b[39m     tuner.search(X_train_fold, y_train_fold, epochs=\u001b[32m2\u001b[39m, validation_data=(X_val_fold, y_val_fold))\n\u001b[32m     10\u001b[39m best_hps = tuner.get_best_hyperparameters(num_trials=\u001b[32m1\u001b[39m)[\u001b[32m0\u001b[39m]\n\u001b[32m     12\u001b[39m \u001b[38;5;28mprint\u001b[39m(\u001b[33mf\u001b[39m\u001b[33m\"\"\"\u001b[39m\n\u001b[32m---> \u001b[39m\u001b[32m13\u001b[39m \u001b[33m    A pesquisas da hiperparâmetros foi conlcuída. O númera ideal de dimensões de incorparação é \u001b[39m\u001b[38;5;132;01m{\u001b[39;00m\u001b[43mbest_hps\u001b[49m\u001b[43m.\u001b[49m\u001b[43mget\u001b[49m\u001b[43m(\u001b[49m\u001b[33;43m'\u001b[39;49m\u001b[33;43mEmbedding_dim\u001b[39;49m\u001b[33;43m'\u001b[39;49m\u001b[43m)\u001b[49m\u001b[38;5;132;01m}\u001b[39;00m\n\u001b[32m     14\u001b[39m \u001b[33m    o número ideal de unidades LSTM é \u001b[39m\u001b[38;5;132;01m{\u001b[39;00mbest_hps.get(\u001b[33m'\u001b[39m\u001b[33mlstm_units\u001b[39m\u001b[33m'\u001b[39m)\u001b[38;5;132;01m}\u001b[39;00m\u001b[33m, e\u001b[39m\n\u001b[32m     15\u001b[39m \u001b[33m    o número ideal de unidades densas é \u001b[39m\u001b[38;5;132;01m{\u001b[39;00mbest_hps.get(\u001b[33m'\u001b[39m\u001b[33mdense_units\u001b[39m\u001b[33m'\u001b[39m)\u001b[38;5;132;01m}\u001b[39;00m\u001b[33m,\u001b[39m\n\u001b[32m     16\u001b[39m \u001b[33m    e a taxa de adandono ideal é \u001b[39m\u001b[38;5;132;01m{\u001b[39;00mbest_hps.get(\u001b[33m'\u001b[39m\u001b[33mdropout\u001b[39m\u001b[33m'\u001b[39m)\u001b[38;5;132;01m}\u001b[39;00m\n\u001b[32m     17\u001b[39m \u001b[33m\u001b[39m\u001b[33m\"\"\"\u001b[39m)\n\u001b[32m     19\u001b[39m \u001b[38;5;28;01mreturn\u001b[39;00m best_hps\n",
      "\u001b[36mFile \u001b[39m\u001b[32m~/Desenvolvimento/repo/pessoal/FormacaoAluraKeras/curso3/.venv/lib/python3.12/site-packages/keras_tuner/src/engine/hyperparameters/hyperparameters.py:246\u001b[39m, in \u001b[36mHyperParameters.get\u001b[39m\u001b[34m(self, name)\u001b[39m\n\u001b[32m    244\u001b[39m     \u001b[38;5;28;01mraise\u001b[39;00m \u001b[38;5;167;01mValueError\u001b[39;00m(\u001b[33mf\u001b[39m\u001b[33m\"\u001b[39m\u001b[38;5;132;01m{\u001b[39;00mname\u001b[38;5;132;01m}\u001b[39;00m\u001b[33m is currently inactive.\u001b[39m\u001b[33m\"\u001b[39m)\n\u001b[32m    245\u001b[39m \u001b[38;5;28;01melse\u001b[39;00m:\n\u001b[32m--> \u001b[39m\u001b[32m246\u001b[39m     \u001b[38;5;28;01mraise\u001b[39;00m \u001b[38;5;167;01mKeyError\u001b[39;00m(\u001b[33mf\u001b[39m\u001b[33m\"\u001b[39m\u001b[38;5;132;01m{\u001b[39;00mname\u001b[38;5;132;01m}\u001b[39;00m\u001b[33m does not exist.\u001b[39m\u001b[33m\"\u001b[39m)\n",
      "\u001b[31mKeyError\u001b[39m: 'Embedding_dim does not exist.'"
     ]
    }
   ],
   "source": [
    "best_hps = run_tuner(X_treino, y_treino)"
   ]
  },
  {
   "cell_type": "code",
   "execution_count": 66,
   "id": "0ae84d2b",
   "metadata": {},
   "outputs": [
    {
     "ename": "NameError",
     "evalue": "name 'best_hps' is not defined",
     "output_type": "error",
     "traceback": [
      "\u001b[31m---------------------------------------------------------------------------\u001b[39m",
      "\u001b[31mNameError\u001b[39m                                 Traceback (most recent call last)",
      "\u001b[36mCell\u001b[39m\u001b[36m \u001b[39m\u001b[32mIn[66]\u001b[39m\u001b[32m, line 5\u001b[39m\n\u001b[32m      1\u001b[39m final_model = tf.keras.Sequential([\n\u001b[32m      2\u001b[39m     encoder,\n\u001b[32m      3\u001b[39m     tf.keras.layers.Embedding(\n\u001b[32m      4\u001b[39m         input_dim=\u001b[38;5;28mlen\u001b[39m(encoder.get_vocabulary()),\n\u001b[32m----> \u001b[39m\u001b[32m5\u001b[39m         output_dim=\u001b[43mbest_hps\u001b[49m.get(\u001b[33m'\u001b[39m\u001b[33membedding_dim\u001b[39m\u001b[33m'\u001b[39m),\n\u001b[32m      6\u001b[39m         mask_zero=\u001b[38;5;28;01mTrue\u001b[39;00m\n\u001b[32m      7\u001b[39m     ),\n\u001b[32m      8\u001b[39m     tf.keras.layers.Bidirectional(tf.keras.layers.LSTM(\n\u001b[32m      9\u001b[39m         units=best_hps.get(\u001b[33m'\u001b[39m\u001b[33mlstm_units\u001b[39m\u001b[33m'\u001b[39m),\n\u001b[32m     10\u001b[39m         return_sequences=\u001b[38;5;28;01mTrue\u001b[39;00m\n\u001b[32m     11\u001b[39m     )),\n\u001b[32m     12\u001b[39m     tf.keras.layers.Bidirectional(tf.keras.layers.LSTM(\n\u001b[32m     13\u001b[39m         units=best_hps.get(\u001b[33m'\u001b[39m\u001b[33mlstm_units\u001b[39m\u001b[33m'\u001b[39m) // \u001b[32m2\u001b[39m\n\u001b[32m     14\u001b[39m     )),\n\u001b[32m     15\u001b[39m     tf.keras.layers.Dense(\n\u001b[32m     16\u001b[39m         units=best_hps.get(\u001b[33m'\u001b[39m\u001b[33mdense_units\u001b[39m\u001b[33m'\u001b[39m),\n\u001b[32m     17\u001b[39m         activation=\u001b[33m'\u001b[39m\u001b[33mrelu\u001b[39m\u001b[33m'\u001b[39m\n\u001b[32m     18\u001b[39m     ),\n\u001b[32m     19\u001b[39m     tf.keras.layers.Dropout(rate=best_hps.get(\u001b[33m'\u001b[39m\u001b[33mdropout\u001b[39m\u001b[33m'\u001b[39m)),\n\u001b[32m     20\u001b[39m     tf.keras.layers.Dense(\u001b[32m4\u001b[39m, activation=\u001b[33m'\u001b[39m\u001b[33msoftmax\u001b[39m\u001b[33m'\u001b[39m)\n\u001b[32m     21\u001b[39m ])\n",
      "\u001b[31mNameError\u001b[39m: name 'best_hps' is not defined"
     ]
    }
   ],
   "source": [
    "final_model = tf.keras.Sequential([\n",
    "    encoder,\n",
    "    tf.keras.layers.Embedding(\n",
    "        input_dim=len(encoder.get_vocabulary()),\n",
    "        output_dim=best_hps.get('embedding_dim'),\n",
    "        mask_zero=True\n",
    "    ),\n",
    "    tf.keras.layers.Bidirectional(tf.keras.layers.LSTM(\n",
    "        units=best_hps.get('lstm_units'),\n",
    "        return_sequences=True\n",
    "    )),\n",
    "    tf.keras.layers.Bidirectional(tf.keras.layers.LSTM(\n",
    "        units=best_hps.get('lstm_units') // 2\n",
    "    )),\n",
    "    tf.keras.layers.Dense(\n",
    "        units=best_hps.get('dense_units'),\n",
    "        activation='relu'\n",
    "    ),\n",
    "    tf.keras.layers.Dropout(rate=best_hps.get('dropout')),\n",
    "    tf.keras.layers.Dense(4, activation='softmax')\n",
    "])"
   ]
  },
  {
   "cell_type": "code",
   "execution_count": null,
   "id": "36aa1e5e",
   "metadata": {},
   "outputs": [],
   "source": [
    "final_model.fit(X_treino, y_treino, epochs=10, validation_data=(X_teste, y_teste))"
   ]
  },
  {
   "cell_type": "code",
   "execution_count": null,
   "id": "96390ef2",
   "metadata": {},
   "outputs": [],
   "source": [
    "y_pred = final_model.predict(X_teste)\n",
    "y_pred_classes = y_pred.argmax(axis=1)"
   ]
  },
  {
   "cell_type": "code",
   "execution_count": null,
   "id": "d9a295da",
   "metadata": {},
   "outputs": [],
   "source": [
    "from sklearn.metrics import confusion_matrix, ConfusionMatrixDisplay\n",
    "\n",
    "conf_matrix = confusion_matrix(y_teste, y_pred_classes)"
   ]
  },
  {
   "cell_type": "code",
   "execution_count": null,
   "id": "54ad61fe",
   "metadata": {},
   "outputs": [],
   "source": [
    "disp = ConfusionMatrixDisplay(confusion_matrix=conf_matrix, display_labels=[0, 1, 2, 3])\n",
    "disp.plot(cmap=plt.cm.Blues)\n",
    "plt.show()"
   ]
  },
  {
   "cell_type": "code",
   "execution_count": null,
   "id": "20b837b3",
   "metadata": {},
   "outputs": [],
   "source": []
  }
 ],
 "metadata": {
  "kernelspec": {
   "display_name": "curso3",
   "language": "python",
   "name": "python3"
  },
  "language_info": {
   "codemirror_mode": {
    "name": "ipython",
    "version": 3
   },
   "file_extension": ".py",
   "mimetype": "text/x-python",
   "name": "python",
   "nbconvert_exporter": "python",
   "pygments_lexer": "ipython3",
   "version": "3.12.11"
  }
 },
 "nbformat": 4,
 "nbformat_minor": 5
}
